{
  "nbformat": 4,
  "nbformat_minor": 0,
  "metadata": {
    "colab": {
      "provenance": []
    },
    "kernelspec": {
      "name": "python3",
      "display_name": "Python 3"
    },
    "language_info": {
      "name": "python"
    }
  },
  "cells": [
    {
      "cell_type": "markdown",
      "source": [
        "Requirements:\n",
        "- [x] Grovers Search\n",
        "- [x] 3 or more qubits\n",
        "- [x] Write code for \"user defined\" unitary Uf\n",
        "- [x] Add appropriate number of iterations\n",
        "- [x] Run several times, observe proababilities\n",
        "- [x] Returns \"searched for \" item"
      ],
      "metadata": {
        "id": "C7ZaLMfzqBrI"
      }
    },
    {
      "cell_type": "code",
      "execution_count": 1,
      "metadata": {
        "colab": {
          "base_uri": "https://localhost:8080/"
        },
        "id": "DMxpJdse2rRd",
        "outputId": "3ab0bf8f-4a71-441b-e32d-7ede361b7a47"
      },
      "outputs": [
        {
          "output_type": "stream",
          "name": "stdout",
          "text": [
            "Looking in indexes: https://pypi.org/simple, https://us-python.pkg.dev/colab-wheels/public/simple/\n",
            "Requirement already satisfied: qiskit in /usr/local/lib/python3.9/dist-packages (0.42.1)\n",
            "Requirement already satisfied: qiskit-aer==0.12.0 in /usr/local/lib/python3.9/dist-packages (from qiskit) (0.12.0)\n",
            "Requirement already satisfied: qiskit-terra==0.23.3 in /usr/local/lib/python3.9/dist-packages (from qiskit) (0.23.3)\n",
            "Requirement already satisfied: qiskit-ibmq-provider==0.20.2 in /usr/local/lib/python3.9/dist-packages (from qiskit) (0.20.2)\n",
            "Requirement already satisfied: scipy>=1.0 in /usr/local/lib/python3.9/dist-packages (from qiskit-aer==0.12.0->qiskit) (1.10.1)\n",
            "Requirement already satisfied: numpy>=1.16.3 in /usr/local/lib/python3.9/dist-packages (from qiskit-aer==0.12.0->qiskit) (1.22.4)\n",
            "Requirement already satisfied: requests>=2.19 in /usr/local/lib/python3.9/dist-packages (from qiskit-ibmq-provider==0.20.2->qiskit) (2.27.1)\n",
            "Requirement already satisfied: websocket-client>=1.5.1 in /usr/local/lib/python3.9/dist-packages (from qiskit-ibmq-provider==0.20.2->qiskit) (1.5.1)\n",
            "Requirement already satisfied: websockets>=10.0 in /usr/local/lib/python3.9/dist-packages (from qiskit-ibmq-provider==0.20.2->qiskit) (10.4)\n",
            "Requirement already satisfied: requests-ntlm<=1.1.0 in /usr/local/lib/python3.9/dist-packages (from qiskit-ibmq-provider==0.20.2->qiskit) (1.1.0)\n",
            "Requirement already satisfied: urllib3>=1.21.1 in /usr/local/lib/python3.9/dist-packages (from qiskit-ibmq-provider==0.20.2->qiskit) (1.26.15)\n",
            "Requirement already satisfied: python-dateutil>=2.8.0 in /usr/local/lib/python3.9/dist-packages (from qiskit-ibmq-provider==0.20.2->qiskit) (2.8.2)\n",
            "Requirement already satisfied: dill>=0.3 in /usr/local/lib/python3.9/dist-packages (from qiskit-terra==0.23.3->qiskit) (0.3.6)\n",
            "Requirement already satisfied: stevedore>=3.0.0 in /usr/local/lib/python3.9/dist-packages (from qiskit-terra==0.23.3->qiskit) (5.0.0)\n",
            "Requirement already satisfied: rustworkx>=0.12.0 in /usr/local/lib/python3.9/dist-packages (from qiskit-terra==0.23.3->qiskit) (0.12.1)\n",
            "Requirement already satisfied: psutil>=5 in /usr/local/lib/python3.9/dist-packages (from qiskit-terra==0.23.3->qiskit) (5.9.4)\n",
            "Requirement already satisfied: ply>=3.10 in /usr/local/lib/python3.9/dist-packages (from qiskit-terra==0.23.3->qiskit) (3.11)\n",
            "Requirement already satisfied: sympy>=1.3 in /usr/local/lib/python3.9/dist-packages (from qiskit-terra==0.23.3->qiskit) (1.11.1)\n",
            "Requirement already satisfied: symengine>=0.9 in /usr/local/lib/python3.9/dist-packages (from qiskit-terra==0.23.3->qiskit) (0.9.2)\n",
            "Requirement already satisfied: six>=1.5 in /usr/local/lib/python3.9/dist-packages (from python-dateutil>=2.8.0->qiskit-ibmq-provider==0.20.2->qiskit) (1.16.0)\n",
            "Requirement already satisfied: idna<4,>=2.5 in /usr/local/lib/python3.9/dist-packages (from requests>=2.19->qiskit-ibmq-provider==0.20.2->qiskit) (3.4)\n",
            "Requirement already satisfied: charset-normalizer~=2.0.0 in /usr/local/lib/python3.9/dist-packages (from requests>=2.19->qiskit-ibmq-provider==0.20.2->qiskit) (2.0.12)\n",
            "Requirement already satisfied: certifi>=2017.4.17 in /usr/local/lib/python3.9/dist-packages (from requests>=2.19->qiskit-ibmq-provider==0.20.2->qiskit) (2022.12.7)\n",
            "Requirement already satisfied: cryptography>=1.3 in /usr/local/lib/python3.9/dist-packages (from requests-ntlm<=1.1.0->qiskit-ibmq-provider==0.20.2->qiskit) (39.0.2)\n",
            "Requirement already satisfied: ntlm-auth>=1.0.2 in /usr/local/lib/python3.9/dist-packages (from requests-ntlm<=1.1.0->qiskit-ibmq-provider==0.20.2->qiskit) (1.5.0)\n",
            "Requirement already satisfied: pbr!=2.1.0,>=2.0.0 in /usr/local/lib/python3.9/dist-packages (from stevedore>=3.0.0->qiskit-terra==0.23.3->qiskit) (5.11.1)\n",
            "Requirement already satisfied: mpmath>=0.19 in /usr/local/lib/python3.9/dist-packages (from sympy>=1.3->qiskit-terra==0.23.3->qiskit) (1.3.0)\n",
            "Requirement already satisfied: cffi>=1.12 in /usr/local/lib/python3.9/dist-packages (from cryptography>=1.3->requests-ntlm<=1.1.0->qiskit-ibmq-provider==0.20.2->qiskit) (1.15.1)\n",
            "Requirement already satisfied: pycparser in /usr/local/lib/python3.9/dist-packages (from cffi>=1.12->cryptography>=1.3->requests-ntlm<=1.1.0->qiskit-ibmq-provider==0.20.2->qiskit) (2.21)\n"
          ]
        }
      ],
      "source": [
        "!pip install qiskit"
      ]
    },
    {
      "cell_type": "code",
      "source": [
        "from qiskit import QuantumCircuit, QuantumRegister, Aer, execute\n",
        "from qiskit.circuit import Gate\n",
        "from qiskit.tools.visualization import plot_histogram\n",
        "import math"
      ],
      "metadata": {
        "id": "bJEQjZtf2vrQ"
      },
      "execution_count": 2,
      "outputs": []
    },
    {
      "cell_type": "code",
      "source": [
        "# Ut is the oracle\n",
        "\n",
        "\n",
        "# Uf is the function applied in the oracle and supplied by user\n",
        "def Uf_oracle_example_MCT(n, input):\n",
        "  # does function f on one additional qubit\n",
        "  uf = QuantumCircuit(n+1, 0)\n",
        "  for idx,i in enumerate(input):\n",
        "    if i == 0:\n",
        "      uf.x(idx)\n",
        "  uf.mct(list(range(0,n)),n)\n",
        "  for idx,i in enumerate(input):\n",
        "    if i == 0:\n",
        "      uf.x(idx)\n",
        "  ufg = uf.to_instruction()\n",
        "  ufg.name = '$U_f$'\n",
        "  return ufg"
      ],
      "metadata": {
        "id": "Dcck_StqjRn6"
      },
      "execution_count": 3,
      "outputs": []
    },
    {
      "cell_type": "code",
      "source": [
        "def Us(n):\n",
        "  us = QuantumCircuit(n, 0)\n",
        "  for i in range(0,n):\n",
        "    us.h(i)\n",
        "  for i in range(0,n):\n",
        "    us.x(i)\n",
        "  us.h(n-1)\n",
        "  us.mct( list(range(0,n-1)) ,n-1)\n",
        "  us.h(n-1)\n",
        "  for i in range(0,n):\n",
        "    us.x(i)\n",
        "  for i in range(0,n):\n",
        "    us.h(i)\n",
        "  usg = us.to_gate()\n",
        "  usg.name = '$U_s$'\n",
        "  return usg"
      ],
      "metadata": {
        "id": "EKO-BmRPgSiG"
      },
      "execution_count": 4,
      "outputs": []
    },
    {
      "cell_type": "code",
      "source": [
        "def checkBitS(bitS):\n",
        "  validInput = True\n",
        "  bitArr = []\n",
        "  # convert string to int array\n",
        "  for i in bitS:\n",
        "    if i == \"1\":\n",
        "      bitArr.append(1)\n",
        "    elif i == \"0\":\n",
        "      bitArr.append(0)\n",
        "    else:\n",
        "      print(\"Non-bit detected - please try again: \")\n",
        "      validInput = False\n",
        "      break\n",
        "  return bitArr, validInput"
      ],
      "metadata": {
        "id": "Yu8d5GP4rKd8"
      },
      "execution_count": 5,
      "outputs": []
    },
    {
      "cell_type": "code",
      "source": [
        "validInput = False\n",
        "\n",
        "while validInput==False:\n",
        "  bitS = input(\"Bit sequence to search for: (example - 101):   \")\n",
        "  bitArr, validInput = checkBitS(bitS)\n",
        "# Number of needed qubits\n",
        "n = len(bitArr)\n",
        "\n",
        "print(\"Searching for: \",bitArr)\n",
        "print(\"number of qubits needed: \",n)\n",
        "\n",
        "\n",
        "# n=3\n",
        "# input = [0,1,1]\n",
        "numIter = math.floor(math.pi / 4 * math.sqrt(2**n))\n",
        "# numIter = 2\n",
        "qr = QuantumRegister(n+1, 'q')\n",
        "createKetS = QuantumCircuit(qr)\n",
        "for i in range(0,n):\n",
        "  createKetS.h(i)\n",
        "createKetS.barrier()\n",
        "# createKetS.draw()\n",
        "\n",
        "for i in range(numIter):\n",
        "  #single iteration\n",
        "  # uf_gate = Gate(name='$U_f$', num_qubits=n+1, params=[])\n",
        "  uf_gate = Uf_oracle_example_MCT(n, bitArr)\n",
        "  createKetS.x(n)\n",
        "  createKetS.h(n)\n",
        "\n",
        "  createKetS.append(uf_gate, list(range(0,n+1)))\n",
        "\n",
        "  createKetS.h(n)\n",
        "  createKetS.x(n)\n",
        "  createKetS.barrier()\n",
        "\n",
        "  # ut_gate=Ut(n,uf_gate) #uf_gate supplied by user\n",
        "  # createKetS.append(ut_gate, list(range(0,n+1)))\n",
        "  us_gate = Us(n);\n",
        "  createKetS.append(us_gate, list(range(0,n)))\n",
        "  createKetS.barrier(); \n",
        "  #end of single iteration\n",
        "\n",
        "\n",
        "createKetS.measure_all()\n",
        "\n",
        "# Run the circuit on a simulator\n",
        "simulator = Aer.get_backend('qasm_simulator')\n",
        "result = execute(createKetS, backend=simulator, shots=1024).result()\n",
        "\n",
        "# Print the results\n",
        "counts = result.get_counts(createKetS)\n",
        "print(\"Results:\", counts)\n",
        "\n",
        "# Plot the results\n",
        "plot_histogram(counts)\n",
        "\n",
        "# createKetS.draw()"
      ],
      "metadata": {
        "colab": {
          "base_uri": "https://localhost:8080/",
          "height": 419
        },
        "id": "CntbybTz2064",
        "outputId": "cebd5111-0561-4aef-8746-6060d574997a"
      },
      "execution_count": 14,
      "outputs": [
        {
          "output_type": "stream",
          "name": "stdout",
          "text": [
            "Bit sequence to search for: (example - 101):   111\n",
            "Searching for:  [1, 1, 1]\n",
            "number of qubits needed:  3\n",
            "Results: {'0110': 8, '0001': 5, '0100': 8, '0101': 7, '0010': 3, '0000': 13, '0011': 9, '0111': 971}\n"
          ]
        },
        {
          "output_type": "execute_result",
          "data": {
            "text/plain": [
              "<Figure size 504x360 with 1 Axes>"
            ],
            "image/png": "[encoded data removed]"
          },
          "metadata": {},
          "execution_count": 14
        }
      ]
    },
    {
      "cell_type": "markdown",
      "source": [
        "Probabilities with search iterations over 1024 shots.\n",
        "\n",
        "|     Search/Prob.     | 000 | 001 | 010 | 011 | 100 | 101 | 110 | 111 |\n",
        "| --- | --- | --- | --- | --- | --- | --- | --- | --- |\n",
        "| 000 | 978 | 5 | 11 | 3 | 7 | 10 | 3 | 7 |\n",
        "| 001 | 7 | 10 | 10 | 12 | 953 | 10 | 8 | 14 |\n",
        "| 010 | 10 | 5 | 966 | 12 | 6 | 6 | 8 | 11 |\n",
        "| 011 | 12 | 10 | 12 | 3 | 7 | 12 | 962 | 6 |\n",
        "| 100 | 12 | 970 | 9 | 6 | 6 | 7 | 8 | 6 |\n",
        "| 101 | 14 | 5 | 8 | 5 | 6 | 974 | 6 | 6 |\n",
        "| 110 | 14 | 8 | 11 | 967 | 7 | 7 | 5 | 5 |\n",
        "| 111 | 13 | 5 | 3 | 9 | 8 | 7 | 8 | 971 |\n",
        "\n"
      ],
      "metadata": {
        "id": "WxA37vn6qMzA"
      }
    }
  ]
}